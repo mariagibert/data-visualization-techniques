{
 "cells": [
  {
   "cell_type": "code",
   "execution_count": 1,
   "id": "36531fa3-012a-4c17-88d5-ede986b8e6b8",
   "metadata": {},
   "outputs": [],
   "source": [
    "import pandas as pd"
   ]
  },
  {
   "cell_type": "code",
   "execution_count": 3,
   "id": "7d17f8c7-0e44-4f1f-bb44-736b0616e649",
   "metadata": {},
   "outputs": [],
   "source": [
    "# Importem conjunt de dades\n",
    "# Repositori Kaggle: https://www.kaggle.com/datasets/bhavikjikadara/student-study-performance\n",
    "\n",
    "df = pd.read_csv('study_performance.csv')"
   ]
  },
  {
   "cell_type": "code",
   "execution_count": 5,
   "id": "47ada42c-24d3-4b1a-8b57-a2f0d0bd93da",
   "metadata": {},
   "outputs": [
    {
     "name": "stdout",
     "output_type": "stream",
     "text": [
      "<class 'pandas.core.frame.DataFrame'>\n",
      "RangeIndex: 1000 entries, 0 to 999\n",
      "Data columns (total 8 columns):\n",
      " #   Column                       Non-Null Count  Dtype \n",
      "---  ------                       --------------  ----- \n",
      " 0   gender                       1000 non-null   object\n",
      " 1   race_ethnicity               1000 non-null   object\n",
      " 2   parental_level_of_education  1000 non-null   object\n",
      " 3   lunch                        1000 non-null   object\n",
      " 4   test_preparation_course      1000 non-null   object\n",
      " 5   math_score                   1000 non-null   int64 \n",
      " 6   reading_score                1000 non-null   int64 \n",
      " 7   writing_score                1000 non-null   int64 \n",
      "dtypes: int64(3), object(5)\n",
      "memory usage: 62.6+ KB\n"
     ]
    }
   ],
   "source": [
    "df.info()"
   ]
  },
  {
   "cell_type": "code",
   "execution_count": 10,
   "id": "5fd6e85e-d21d-4cf3-a83d-10d63da1505a",
   "metadata": {},
   "outputs": [
    {
     "data": {
      "text/plain": [
       "parental_level_of_education\n",
       "some college          226\n",
       "associate's degree    222\n",
       "high school           196\n",
       "some high school      179\n",
       "bachelor's degree     118\n",
       "master's degree        59\n",
       "Name: count, dtype: int64"
      ]
     },
     "execution_count": 10,
     "metadata": {},
     "output_type": "execute_result"
    }
   ],
   "source": [
    "df['parental_level_of_education'].value_counts()"
   ]
  },
  {
   "cell_type": "code",
   "execution_count": 29,
   "id": "b74b1c53-2467-404d-ae0d-5bf31d8115f9",
   "metadata": {},
   "outputs": [],
   "source": [
    "sorted_levels = [\"some high school\",  \"high school\", \"some college\", \"associate's degree\", \"bachelor's degree\",\"master's degree\"]"
   ]
  },
  {
   "cell_type": "code",
   "execution_count": 30,
   "id": "71b44195-1065-4efb-ab2c-4df6fc528e72",
   "metadata": {},
   "outputs": [],
   "source": [
    "parental_level_value_counts = pd.Series(df['parental_level_of_education'].value_counts(), index=sorted_levels)"
   ]
  },
  {
   "cell_type": "code",
   "execution_count": 31,
   "id": "fccfb191-f061-498f-8f83-db705d50a6c3",
   "metadata": {},
   "outputs": [
    {
     "data": {
      "text/plain": [
       "some high school      179\n",
       "high school           196\n",
       "some college          226\n",
       "associate's degree    222\n",
       "bachelor's degree     118\n",
       "master's degree        59\n",
       "Name: count, dtype: int64"
      ]
     },
     "execution_count": 31,
     "metadata": {},
     "output_type": "execute_result"
    }
   ],
   "source": [
    "parental_level_value_counts"
   ]
  },
  {
   "cell_type": "code",
   "execution_count": 32,
   "id": "e314f0eb-8105-4791-bd9a-5ec25de07a4c",
   "metadata": {},
   "outputs": [],
   "source": [
    "parental_level_value_counts.to_csv('parental_level_counts.csv')"
   ]
  }
 ],
 "metadata": {
  "kernelspec": {
   "display_name": "Python 3 (ipykernel)",
   "language": "python",
   "name": "python3"
  },
  "language_info": {
   "codemirror_mode": {
    "name": "ipython",
    "version": 3
   },
   "file_extension": ".py",
   "mimetype": "text/x-python",
   "name": "python",
   "nbconvert_exporter": "python",
   "pygments_lexer": "ipython3",
   "version": "3.11.5"
  }
 },
 "nbformat": 4,
 "nbformat_minor": 5
}
